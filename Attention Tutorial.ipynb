{
 "cells": [
  {
   "cell_type": "markdown",
   "metadata": {},
   "source": [
    "# Attention Tutorial\n",
    "\n",
    "One of the most influential and interesting new neural networks types is the attention network. It's been used succesfully in translation services, [medical diagnosis](https://arxiv.org/pdf/1710.08312.pdf), and other tasks.\n",
    "\n",
    "Below we'll be walking through how to write your very own attention network. Our goal is to make a network that can translate human written times ('quarter after 3 pm') to military time ('03:15').\n",
    "\n",
    "For a tutorial on how Attention Networks work, please visit MuffinTech."
   ]
  },
  {
   "cell_type": "markdown",
   "metadata": {},
   "source": [
    "## Imports"
   ]
  },
  {
   "cell_type": "code",
   "execution_count": 1,
   "metadata": {},
   "outputs": [
    {
     "name": "stderr",
     "output_type": "stream",
     "text": [
      "/Library/Frameworks/Python.framework/Versions/3.6/lib/python3.6/site-packages/h5py/__init__.py:36: FutureWarning: Conversion of the second argument of issubdtype from `float` to `np.floating` is deprecated. In future, it will be treated as `np.float64 == np.dtype(float).type`.\n",
      "  from ._conv import register_converters as _register_converters\n",
      "Using TensorFlow backend.\n"
     ]
    }
   ],
   "source": [
    "# Imports\n",
    "from keras.layers import Bidirectional, Concatenate, Permute, Dot, Input, LSTM, Multiply, Reshape\n",
    "from keras.layers import RepeatVector, Dense, Activation, Lambda\n",
    "from keras.optimizers import Adam\n",
    "from keras.utils import to_categorical\n",
    "from keras.models import load_model, Model\n",
    "from keras.callbacks import LearningRateScheduler\n",
    "import keras.backend as K\n",
    "\n",
    "import matplotlib.pyplot as plt\n",
    "%matplotlib inline\n",
    "\n",
    "import numpy as np\n",
    "\n",
    "import random\n",
    "import math\n",
    "import json\n",
    "\n",
    "# Pinkie Pie was here"
   ]
  },
  {
   "cell_type": "markdown",
   "metadata": {},
   "source": [
    "## Dataset\n",
    "\n",
    "The dataset used is created by MuffinTech using some simple rules. It is not exhaustive, but provides very nice training challenges.\n",
    "\n",
    "You may download all files here and here.\n",
    "\n",
    "Some example data pairs are listed below:\n",
    "\n",
    "['48 min before 10 a.m', '09:12']  \n",
    "['t11:36', '11:36']  \n",
    "[\"nine o'clock forty six p.m\", '21:46']  \n",
    "['2:59p.m.', '14:59']  \n",
    "['23 min after 20 p.m.', '20:23']  \n",
    "['46 min after seven p.m.', '19:46']  \n",
    "['10 before nine pm', '20:50']  \n",
    "['3.20', '03:20']  \n",
    "['7.57', '07:57']  \n",
    "['six hours and fifty five am', '06:55']  "
   ]
  },
  {
   "cell_type": "code",
   "execution_count": 2,
   "metadata": {},
   "outputs": [],
   "source": [
    "with open('data/Time Dataset.json','r') as f:\n",
    "    dataset = json.loads(f.read())\n",
    "with open('data/Time Vocabs.json','r') as f:\n",
    "    human_vocab, machine_vocab = json.loads(f.read())\n",
    "    \n",
    "human_vocab_size = len(human_vocab)\n",
    "machine_vocab_size = len(machine_vocab)\n",
    "\n",
    "# Number of training examples\n",
    "m = len(dataset)"
   ]
  },
  {
   "cell_type": "markdown",
   "metadata": {},
   "source": [
    "Next let's define some general helper methods. They are used to help tokenize data."
   ]
  },
  {
   "cell_type": "code",
   "execution_count": 3,
   "metadata": {
    "scrolled": false
   },
   "outputs": [],
   "source": [
    "def preprocess_data(dataset, human_vocab, machine_vocab, Tx, Ty):\n",
    "    \"\"\"\n",
    "    A method for tokenizing data.\n",
    "    \n",
    "    Inputs:\n",
    "    dataset - A list of sentence data pairs.\n",
    "    human_vocab - A dictionary of tokens (char) to id's.\n",
    "    machine_vocab - A dictionary of tokens (char) to id's.\n",
    "    Tx - X data size\n",
    "    Ty - Y data size\n",
    "    \n",
    "    Outputs:\n",
    "    X - Sparse tokens for X data\n",
    "    Y - Sparse tokens for Y data\n",
    "    Xoh - One hot tokens for X data\n",
    "    Yoh - One hot tokens for Y data\n",
    "    \"\"\"\n",
    "    \n",
    "    # Metadata\n",
    "    m = len(dataset)\n",
    "    \n",
    "    # Initialize\n",
    "    X = np.zeros([m, Tx], dtype='int32')\n",
    "    Y = np.zeros([m, Ty], dtype='int32')\n",
    "    \n",
    "    # Process data\n",
    "    for i in range(m):\n",
    "        data = dataset[i]\n",
    "        X[i] = np.array(tokenize(data[0], human_vocab, Tx))\n",
    "        Y[i] = np.array(tokenize(data[1], machine_vocab, Ty))\n",
    "    \n",
    "    # Expand one hots\n",
    "    Xoh = oh_2d(X, len(human_vocab))\n",
    "    Yoh = oh_2d(Y, len(machine_vocab))\n",
    "    \n",
    "    return (X, Y, Xoh, Yoh)\n",
    "    \n",
    "def tokenize(sentence, vocab, length):\n",
    "    \"\"\"\n",
    "    Returns a series of id's for a given input token sequence.\n",
    "    \n",
    "    It is advised that the vocab supports <pad> and <unk>.\n",
    "    \n",
    "    Inputs:\n",
    "    sentence - Series of tokens\n",
    "    vocab - A dictionary from token to id\n",
    "    length - Max number of tokens to consider\n",
    "    \n",
    "    Outputs:\n",
    "    tokens - \n",
    "    \"\"\"\n",
    "    tokens = [0]*length\n",
    "    for i in range(length):\n",
    "        char = sentence[i] if i < len(sentence) else \"<pad>\"\n",
    "        char = char if (char in vocab) else \"<unk>\"\n",
    "        tokens[i] = vocab[char]\n",
    "        \n",
    "    return tokens\n",
    "\n",
    "def ids_to_keys(sentence, vocab):\n",
    "    \"\"\"\n",
    "    Converts a series of id's into the keys of a dictionary.\n",
    "    \"\"\"\n",
    "    return [list(vocab.keys())[id] for id in sentence]\n",
    "\n",
    "def oh_2d(dense, max_value):\n",
    "    \"\"\"\n",
    "    Create a one hot array for the 2D input dense array.\n",
    "    \"\"\"\n",
    "    # Initialize\n",
    "    oh = np.zeros(np.append(dense.shape, [max_value]))\n",
    "    \n",
    "    # Set correct indices\n",
    "    ids1, ids2 = np.meshgrid(np.arange(dense.shape[0]), np.arange(dense.shape[1]))\n",
    "    \n",
    "    oh[ids1.flatten(), ids2.flatten(), dense.flatten('F').astype(int)] = 1\n",
    "    \n",
    "    return oh"
   ]
  },
  {
   "cell_type": "markdown",
   "metadata": {},
   "source": [
    "Our next goal is to tokenize the data using our vocabularies."
   ]
  },
  {
   "cell_type": "code",
   "execution_count": 4,
   "metadata": {
    "scrolled": true
   },
   "outputs": [],
   "source": [
    "Tx = 41 # Max x sequence length\n",
    "Ty = 5 # y sequence length\n",
    "X, Y, Xoh, Yoh = preprocess_data(dataset, human_vocab, machine_vocab, Tx, Ty)\n",
    "\n",
    "# Split data 80-20 between training and test\n",
    "train_size = int(0.8*m)\n",
    "Xoh_train = Xoh[:train_size]\n",
    "Yoh_train = Yoh[:train_size]\n",
    "Xoh_test = Xoh[train_size:]\n",
    "Yoh_test = Yoh[train_size:]"
   ]
  },
  {
   "cell_type": "markdown",
   "metadata": {},
   "source": [
    "To be careful, let's check that the code works:"
   ]
  },
  {
   "cell_type": "code",
   "execution_count": 5,
   "metadata": {},
   "outputs": [
    {
     "name": "stdout",
     "output_type": "stream",
     "text": [
      "Input data point 4.\n",
      "\n",
      "The data input is: 8:25\n",
      "The data output is: 08:25\n",
      "\n",
      "The tokenized input is:[11 13  5  8 40 40 40 40 40 40 40 40 40 40 40 40 40 40 40 40 40 40 40 40\n",
      " 40 40 40 40 40 40 40 40 40 40 40 40 40 40 40 40 40]\n",
      "The tokenized output is: [ 0  8 10  2  5]\n",
      "\n",
      "The one-hot input is: [[0. 0. 0. ... 0. 0. 0.]\n",
      " [0. 0. 0. ... 0. 0. 0.]\n",
      " [0. 0. 0. ... 0. 0. 0.]\n",
      " ...\n",
      " [0. 0. 0. ... 0. 0. 1.]\n",
      " [0. 0. 0. ... 0. 0. 1.]\n",
      " [0. 0. 0. ... 0. 0. 1.]]\n",
      "The one-hot input is: [[1. 0. 0. 0. 0. 0. 0. 0. 0. 0. 0.]\n",
      " [0. 0. 0. 0. 0. 0. 0. 0. 1. 0. 0.]\n",
      " [0. 0. 0. 0. 0. 0. 0. 0. 0. 0. 1.]\n",
      " [0. 0. 1. 0. 0. 0. 0. 0. 0. 0. 0.]\n",
      " [0. 0. 0. 0. 0. 1. 0. 0. 0. 0. 0.]]\n"
     ]
    }
   ],
   "source": [
    "i = 4\n",
    "print(\"Input data point \" + str(i) + \".\")\n",
    "print(\"\")\n",
    "print(\"The data input is: \" + str(dataset[i][0]))\n",
    "print(\"The data output is: \" + str(dataset[i][1]))\n",
    "print(\"\")\n",
    "print(\"The tokenized input is:\" + str(X[i]))\n",
    "print(\"The tokenized output is: \" + str(Y[i]))\n",
    "print(\"\")\n",
    "print(\"The one-hot input is:\", Xoh[i])\n",
    "print(\"The one-hot output is:\", Yoh[i])"
   ]
  },
  {
   "cell_type": "markdown",
   "metadata": {},
   "source": [
    "## Model\n",
    "\n",
    "Our next goal is to define our model. The important part will be defining the attention mechanism and then making sure to apply that correctly.\n",
    "\n",
    "Define some model metadata:"
   ]
  },
  {
   "cell_type": "code",
   "execution_count": 6,
   "metadata": {},
   "outputs": [],
   "source": [
    "layer1_size = 32\n",
    "layer2_size = 64 # Attention layer"
   ]
  },
  {
   "cell_type": "markdown",
   "metadata": {},
   "source": [
    "Our next goal is to define the attention mechanism."
   ]
  },
  {
   "cell_type": "code",
   "execution_count": 7,
   "metadata": {},
   "outputs": [],
   "source": [
    "# Define part of the attention layer gloablly so as to\n",
    "# share the same layers between each attention step.\n",
    "def softmax(x):\n",
    "    return K.softmax(x, axis=1)\n",
    "\n",
    "at_repeat = RepeatVector(Tx)\n",
    "at_concatenate = Concatenate(axis=-1)\n",
    "at_dense1 = Dense(10, activation = \"tanh\")\n",
    "at_dense2 = Dense(1, activation=\"relu\") # Output must have size 1\n",
    "at_softmax = Activation(softmax, name='attention_weights')\n",
    "at_dot = Dot(axes=1)\n",
    "\n",
    "def one_step_of_attention(h_prev, a):\n",
    "    \"\"\"\n",
    "    Get the attention vector.\n",
    "    \n",
    "    Input:\n",
    "    h_prev - Previous hidden state of a RNN layer (m, n_h)\n",
    "    a - Input data, possibly processed (m, Tx, n_a)\n",
    "    \n",
    "    Output:\n",
    "    context - Current context (m, Tx, n_a)\n",
    "    \"\"\"\n",
    "    # Repeat vector to match dimensions\n",
    "    h_repeat = at_repeat(h_prev)\n",
    "    # Concat information\n",
    "    i = at_concatenate([a, h_repeat])\n",
    "    # Process information\n",
    "    i = at_dense1(i)\n",
    "    i = at_dense2(i)\n",
    "    # Keep attention bounded\n",
    "    attention = at_softmax(i)\n",
    "    # Apply attention\n",
    "    context = at_dot([attention, a])\n",
    "    \n",
    "    return context\n",
    "\n",
    "def attention_layer(X, n_h, Ty):\n",
    "    \"\"\"\n",
    "    Creates an attention layer.\n",
    "    \n",
    "    Input:\n",
    "    X - Layer input (m, Tx, x_vocab_size)\n",
    "    n_h - Size of LSTM hidden layer\n",
    "    Ty - Timesteps in output sequence\n",
    "    \n",
    "    Output:\n",
    "    output - The output of the attention layer (m, Tx, n_h)\n",
    "    \"\"\"    \n",
    "    # Define default state, shape: (batch_size, n_h)\n",
    "    h = Lambda(lambda X: K.zeros(shape=(K.shape(X)[0], n_h)))(X)\n",
    "    c = Lambda(lambda X: K.zeros(shape=(K.shape(X)[0], n_h)))(X)\n",
    "    # Messy, but the alternative is using more Input()\n",
    "    \n",
    "    at_LSTM = LSTM(n_h, return_state=True)\n",
    "        \n",
    "    output = []\n",
    "              \n",
    "    # Run attention step multiple times\n",
    "    for _ in range(Ty):\n",
    "        context = one_step_of_attention(h, X)\n",
    "        \n",
    "        h, _, c = at_LSTM(context, initial_state=[h, c])\n",
    "        \n",
    "        output.append(h)\n",
    "        \n",
    "    return output"
   ]
  },
  {
   "cell_type": "markdown",
   "metadata": {},
   "source": [
    "The sample model is organized as follows:\n",
    "\n",
    "1. BiLSTM\n",
    "2. Attention Layer\n",
    "    * Outputs m lists of activations.\n",
    "3. Dense\n",
    "    * Necessary to convert attention layer's output to the correct y dimensions"
   ]
  },
  {
   "cell_type": "code",
   "execution_count": 8,
   "metadata": {},
   "outputs": [],
   "source": [
    "layer3 = Dense(machine_vocab_size, activation=softmax)\n",
    "\n",
    "def get_model(Tx, Ty, layer1_size, layer2_size, x_vocab_size, y_vocab_size):\n",
    "    \"\"\"\n",
    "    Creates a model.\n",
    "    \n",
    "    input:\n",
    "    Tx - Number of x timesteps\n",
    "    Ty - Number of y timesteps\n",
    "    size_layer1 - Number of neurons in BiLSTM\n",
    "    size_layer2 - Number of neurons in attention LSTM hidden layer\n",
    "    x_vocab_size - Number of possible token types for x\n",
    "    y_vocab_size - Number of possible token types for y\n",
    "    \n",
    "    Output:\n",
    "    model - A Keras Model.\n",
    "    \"\"\"\n",
    "    \n",
    "    # Create layers one by one\n",
    "    X = Input(shape=(Tx, x_vocab_size))\n",
    "    \n",
    "    a1 = Bidirectional(LSTM(layer1_size, return_sequences=True), merge_mode='concat')(X)\n",
    "\n",
    "    a2 = attention_layer(a1, layer2_size, Ty)\n",
    "    \n",
    "    a3 = [layer3(timestep) for timestep in a2]\n",
    "        \n",
    "    # Create Keras model\n",
    "    model = Model(inputs=[X], outputs=a3)\n",
    "    \n",
    "    return model"
   ]
  },
  {
   "cell_type": "markdown",
   "metadata": {},
   "source": [
    "The steps from here on out are for creating the model and training it. Simple as that."
   ]
  },
  {
   "cell_type": "code",
   "execution_count": 9,
   "metadata": {
    "scrolled": false
   },
   "outputs": [],
   "source": [
    "# Obtain a model instance\n",
    "model = get_model(Tx, Ty, layer1_size, layer2_size, human_vocab_size, machine_vocab_size)"
   ]
  },
  {
   "cell_type": "code",
   "execution_count": 10,
   "metadata": {},
   "outputs": [],
   "source": [
    "# Create optimizer\n",
    "opt = Adam(lr=0.03, decay=0.04, clipnorm=1.0)\n",
    "model.compile(optimizer=opt, loss='categorical_crossentropy', metrics=['accuracy'])"
   ]
  },
  {
   "cell_type": "code",
   "execution_count": 11,
   "metadata": {},
   "outputs": [],
   "source": [
    "# Group the output by timestep, not example\n",
    "outputs_train = list(Yoh_train.swapaxes(0,1))"
   ]
  },
  {
   "cell_type": "code",
   "execution_count": 12,
   "metadata": {
    "scrolled": true
   },
   "outputs": [
    {
     "name": "stdout",
     "output_type": "stream",
     "text": [
      "WARNING:tensorflow:Variable *= will be deprecated. Use variable.assign_mul if you want assignment to the variable value or 'x = x * y' if you want a new python Tensor object.\n",
      "Epoch 1/30\n",
      "8000/8000 [==============================] - 15s 2ms/step - loss: 7.7579 - dense_3_loss: 2.2415 - dense_3_acc: 0.4902 - dense_3_acc_1: 0.1387 - dense_3_acc_2: 0.9625 - dense_3_acc_3: 0.2796 - dense_3_acc_4: 0.1678\n",
      "Epoch 2/30\n",
      "8000/8000 [==============================] - 5s 678us/step - loss: 4.2459 - dense_3_loss: 1.1248 - dense_3_acc: 0.7350 - dense_3_acc_1: 0.4248 - dense_3_acc_2: 1.0000 - dense_3_acc_3: 0.6544 - dense_3_acc_4: 0.6206\n",
      "Epoch 3/30\n",
      "8000/8000 [==============================] - 5s 680us/step - loss: 2.2337 - dense_3_loss: 0.4181 - dense_3_acc: 0.8666 - dense_3_acc_1: 0.6501 - dense_3_acc_2: 1.0000 - dense_3_acc_3: 0.8151 - dense_3_acc_4: 0.8721\n",
      "Epoch 4/30\n",
      "8000/8000 [==============================] - 5s 678us/step - loss: 1.3551 - dense_3_loss: 0.2289 - dense_3_acc: 0.9349 - dense_3_acc_1: 0.8199 - dense_3_acc_2: 1.0000 - dense_3_acc_3: 0.8652 - dense_3_acc_4: 0.9163\n",
      "Epoch 5/30\n",
      "8000/8000 [==============================] - 5s 660us/step - loss: 0.9393 - dense_3_loss: 0.1515 - dense_3_acc: 0.9629 - dense_3_acc_1: 0.8915 - dense_3_acc_2: 1.0000 - dense_3_acc_3: 0.8909 - dense_3_acc_4: 0.9521\n",
      "Epoch 6/30\n",
      "8000/8000 [==============================] - 5s 648us/step - loss: 0.6985 - dense_3_loss: 0.1088 - dense_3_acc: 0.9758 - dense_3_acc_1: 0.9270 - dense_3_acc_2: 1.0000 - dense_3_acc_3: 0.9131 - dense_3_acc_4: 0.9733\n",
      "Epoch 7/30\n",
      "8000/8000 [==============================] - 6s 731us/step - loss: 0.5273 - dense_3_loss: 0.0789 - dense_3_acc: 0.9818 - dense_3_acc_1: 0.9498 - dense_3_acc_2: 1.0000 - dense_3_acc_3: 0.9396 - dense_3_acc_4: 0.9864\n",
      "Epoch 8/30\n",
      "8000/8000 [==============================] - 6s 697us/step - loss: 0.4118 - dense_3_loss: 0.0583 - dense_3_acc: 0.9838 - dense_3_acc_1: 0.9684 - dense_3_acc_2: 1.0000 - dense_3_acc_3: 0.9580 - dense_3_acc_4: 0.9941\n",
      "Epoch 9/30\n",
      "8000/8000 [==============================] - 5s 655us/step - loss: 0.3290 - dense_3_loss: 0.0450 - dense_3_acc: 0.9876 - dense_3_acc_1: 0.9790 - dense_3_acc_2: 1.0000 - dense_3_acc_3: 0.9694 - dense_3_acc_4: 0.9963\n",
      "Epoch 10/30\n",
      "8000/8000 [==============================] - 6s 750us/step - loss: 0.2670 - dense_3_loss: 0.0354 - dense_3_acc: 0.9890 - dense_3_acc_1: 0.9831 - dense_3_acc_2: 1.0000 - dense_3_acc_3: 0.9796 - dense_3_acc_4: 0.9974\n",
      "Epoch 11/30\n",
      "8000/8000 [==============================] - 5s 660us/step - loss: 0.2267 - dense_3_loss: 0.0280 - dense_3_acc: 0.9901 - dense_3_acc_1: 0.9855 - dense_3_acc_2: 1.0000 - dense_3_acc_3: 0.9860 - dense_3_acc_4: 0.9985\n",
      "Epoch 12/30\n",
      "8000/8000 [==============================] - 5s 661us/step - loss: 0.1930 - dense_3_loss: 0.0231 - dense_3_acc: 0.9903 - dense_3_acc_1: 0.9870 - dense_3_acc_2: 1.0000 - dense_3_acc_3: 0.9886 - dense_3_acc_4: 0.9981\n",
      "Epoch 13/30\n",
      "8000/8000 [==============================] - 5s 650us/step - loss: 0.1699 - dense_3_loss: 0.0193 - dense_3_acc: 0.9909 - dense_3_acc_1: 0.9883 - dense_3_acc_2: 1.0000 - dense_3_acc_3: 0.9911 - dense_3_acc_4: 0.9989\n",
      "Epoch 14/30\n",
      "8000/8000 [==============================] - 5s 649us/step - loss: 0.1497 - dense_3_loss: 0.0162 - dense_3_acc: 0.9916 - dense_3_acc_1: 0.9894 - dense_3_acc_2: 1.0000 - dense_3_acc_3: 0.9903 - dense_3_acc_4: 0.9994\n",
      "Epoch 15/30\n",
      "8000/8000 [==============================] - 6s 691us/step - loss: 0.1373 - dense_3_loss: 0.0148 - dense_3_acc: 0.9909 - dense_3_acc_1: 0.9886 - dense_3_acc_2: 1.0000 - dense_3_acc_3: 0.9915 - dense_3_acc_4: 0.9995\n",
      "Epoch 16/30\n",
      "8000/8000 [==============================] - 6s 735us/step - loss: 0.1238 - dense_3_loss: 0.0128 - dense_3_acc: 0.9914 - dense_3_acc_1: 0.9888 - dense_3_acc_2: 1.0000 - dense_3_acc_3: 0.9930 - dense_3_acc_4: 0.9996\n",
      "Epoch 17/30\n",
      "8000/8000 [==============================] - 5s 678us/step - loss: 0.1135 - dense_3_loss: 0.0116 - dense_3_acc: 0.9920 - dense_3_acc_1: 0.9909 - dense_3_acc_2: 1.0000 - dense_3_acc_3: 0.9935 - dense_3_acc_4: 0.9996\n",
      "Epoch 18/30\n",
      "8000/8000 [==============================] - 6s 715us/step - loss: 0.1048 - dense_3_loss: 0.0104 - dense_3_acc: 0.9920 - dense_3_acc_1: 0.9908 - dense_3_acc_2: 1.0000 - dense_3_acc_3: 0.9935 - dense_3_acc_4: 0.9996\n",
      "Epoch 19/30\n",
      "8000/8000 [==============================] - 5s 681us/step - loss: 0.0952 - dense_3_loss: 0.0090 - dense_3_acc: 0.9934 - dense_3_acc_1: 0.9916 - dense_3_acc_2: 1.0000 - dense_3_acc_3: 0.9948 - dense_3_acc_4: 0.9996\n",
      "Epoch 20/30\n",
      "8000/8000 [==============================] - 5s 687us/step - loss: 0.0906 - dense_3_loss: 0.0084 - dense_3_acc: 0.9921 - dense_3_acc_1: 0.9914 - dense_3_acc_2: 1.0000 - dense_3_acc_3: 0.9951 - dense_3_acc_4: 0.9996\n",
      "Epoch 21/30\n",
      "8000/8000 [==============================] - 5s 663us/step - loss: 0.0844 - dense_3_loss: 0.0080 - dense_3_acc: 0.9930 - dense_3_acc_1: 0.9913 - dense_3_acc_2: 1.0000 - dense_3_acc_3: 0.9956 - dense_3_acc_4: 0.9996\n",
      "Epoch 22/30\n",
      "8000/8000 [==============================] - 5s 640us/step - loss: 0.0810 - dense_3_loss: 0.0073 - dense_3_acc: 0.9923 - dense_3_acc_1: 0.9923 - dense_3_acc_2: 1.0000 - dense_3_acc_3: 0.9950 - dense_3_acc_4: 0.9996\n",
      "Epoch 23/30\n",
      "8000/8000 [==============================] - 5s 656us/step - loss: 0.0753 - dense_3_loss: 0.0066 - dense_3_acc: 0.9929 - dense_3_acc_1: 0.9915 - dense_3_acc_2: 1.0000 - dense_3_acc_3: 0.9959 - dense_3_acc_4: 0.9996\n",
      "Epoch 24/30\n",
      "8000/8000 [==============================] - 6s 709us/step - loss: 0.0713 - dense_3_loss: 0.0064 - dense_3_acc: 0.9934 - dense_3_acc_1: 0.9926 - dense_3_acc_2: 1.0000 - dense_3_acc_3: 0.9963 - dense_3_acc_4: 0.9998\n",
      "Epoch 25/30\n",
      "8000/8000 [==============================] - 5s 669us/step - loss: 0.0675 - dense_3_loss: 0.0059 - dense_3_acc: 0.9939 - dense_3_acc_1: 0.9928 - dense_3_acc_2: 1.0000 - dense_3_acc_3: 0.9963 - dense_3_acc_4: 0.9998\n",
      "Epoch 26/30\n",
      "8000/8000 [==============================] - 5s 651us/step - loss: 0.0644 - dense_3_loss: 0.0055 - dense_3_acc: 0.9928 - dense_3_acc_1: 0.9924 - dense_3_acc_2: 1.0000 - dense_3_acc_3: 0.9966 - dense_3_acc_4: 0.9999\n",
      "Epoch 27/30\n",
      "8000/8000 [==============================] - 6s 725us/step - loss: 0.0619 - dense_3_loss: 0.0053 - dense_3_acc: 0.9939 - dense_3_acc_1: 0.9941 - dense_3_acc_2: 1.0000 - dense_3_acc_3: 0.9965 - dense_3_acc_4: 0.9999\n",
      "Epoch 28/30\n",
      "8000/8000 [==============================] - 5s 665us/step - loss: 0.0592 - dense_3_loss: 0.0050 - dense_3_acc: 0.9944 - dense_3_acc_1: 0.9935 - dense_3_acc_2: 1.0000 - dense_3_acc_3: 0.9970 - dense_3_acc_4: 0.9999\n",
      "Epoch 29/30\n",
      "8000/8000 [==============================] - 6s 704us/step - loss: 0.0575 - dense_3_loss: 0.0047 - dense_3_acc: 0.9936 - dense_3_acc_1: 0.9928 - dense_3_acc_2: 1.0000 - dense_3_acc_3: 0.9969 - dense_3_acc_4: 1.0000\n",
      "Epoch 30/30\n",
      "8000/8000 [==============================] - 5s 670us/step - loss: 0.0550 - dense_3_loss: 0.0046 - dense_3_acc: 0.9939 - dense_3_acc_1: 0.9933 - dense_3_acc_2: 1.0000 - dense_3_acc_3: 0.9971 - dense_3_acc_4: 0.9999\n"
     ]
    },
    {
     "data": {
      "text/plain": [
       "<keras.callbacks.History at 0x122c53630>"
      ]
     },
     "execution_count": 12,
     "metadata": {},
     "output_type": "execute_result"
    }
   ],
   "source": [
    "# Time to train\n",
    "# It takes a few minutes on an quad-core CPU\n",
    "model.fit([Xoh_train], outputs_train, epochs=30, batch_size=100)"
   ]
  },
  {
   "cell_type": "markdown",
   "metadata": {},
   "source": [
    "## Evaluation\n",
    "\n",
    "The final training loss should be in the range of 0.05 to 0.5\n",
    "\n",
    "The test loss should be at a similar level."
   ]
  },
  {
   "cell_type": "code",
   "execution_count": 13,
   "metadata": {},
   "outputs": [
    {
     "name": "stdout",
     "output_type": "stream",
     "text": [
      "2000/2000 [==============================] - 1s 636us/step\n",
      "Test loss:  0.09322003409266472\n"
     ]
    }
   ],
   "source": [
    "# Evaluate the test performance\n",
    "outputs_test = list(Yoh_test.swapaxes(0,1))\n",
    "score = model.evaluate(Xoh_test, outputs_test) \n",
    "print('Test loss: ', score[0])"
   ]
  },
  {
   "cell_type": "markdown",
   "metadata": {},
   "source": [
    "Now that we've created this beautiful model, let's see how it does in action.\n",
    "\n",
    "The below code finds a random example and runs it through our model."
   ]
  },
  {
   "cell_type": "code",
   "execution_count": 14,
   "metadata": {},
   "outputs": [
    {
     "name": "stdout",
     "output_type": "stream",
     "text": [
      "Input: t11.37\n",
      "Tokenized: [32  4  4  2  6 10 40 40 40 40 40 40 40 40 40 40 40 40 40 40 40 40 40 40\n",
      " 40 40 40 40 40 40 40 40 40 40 40 40 40 40 40 40 40]\n",
      "Prediction: [1, 1, 10, 3, 7]\n",
      "Prediction text: 11:37\n"
     ]
    }
   ],
   "source": [
    "# Let's visually check model output.\n",
    "import random as random\n",
    "\n",
    "i = random.randint(0, m)\n",
    "\n",
    "def get_prediction(model, x):\n",
    "    prediction = model.predict(x)\n",
    "    max_prediction = [y.argmax() for y in prediction]\n",
    "    str_prediction = \"\".join(ids_to_keys(max_prediction, machine_vocab))\n",
    "    return (max_prediction, str_prediction)\n",
    "\n",
    "max_prediction, str_prediction = get_prediction(model, Xoh[i:i+1])\n",
    "\n",
    "print(\"Input: \" + str(dataset[i][0]))\n",
    "print(\"Tokenized: \" + str(X[i]))\n",
    "print(\"Prediction: \" + str(max_prediction))\n",
    "print(\"Prediction text: \" + str(str_prediction))"
   ]
  },
  {
   "cell_type": "markdown",
   "metadata": {},
   "source": [
    "Last but not least, all introductions to Attention networks require a little tour.\n",
    "\n",
    "The below graph shows what inputs the model was focusing on when writing each individual letter."
   ]
  },
  {
   "cell_type": "code",
   "execution_count": 16,
   "metadata": {},
   "outputs": [
    {
     "data": {
      "image/png": "[encoded data removed]",
      "text/plain": [
       "<matplotlib.figure.Figure at 0x137eea1d0>"
      ]
     },
     "metadata": {},
     "output_type": "display_data"
    }
   ],
   "source": [
    "i = random.randint(0, m)\n",
    "\n",
    "def plot_attention_graph(model, x, Tx, Ty, human_vocab, layer=7):\n",
    "    # Process input\n",
    "    tokens = np.array([tokenize(x, human_vocab, Tx)])\n",
    "    tokens_oh = oh_2d(tokens, len(human_vocab))\n",
    "    \n",
    "    # Monitor model layer\n",
    "    layer = model.layers[layer]\n",
    "    \n",
    "    layer_over_time = K.function(model.inputs, [layer.get_output_at(t) for t in range(Ty)])\n",
    "    layer_output = layer_over_time([tokens_oh])\n",
    "    layer_output = [row.flatten().tolist() for row in layer_output]\n",
    "    \n",
    "    # Get model output\n",
    "    prediction = get_prediction(model, tokens_oh)[1]\n",
    "    \n",
    "    # Graph the data\n",
    "    fig = plt.figure()\n",
    "    ax = fig.add_subplot(111)\n",
    "    \n",
    "    plt.title(\"Activation Values per Timestep\")\n",
    "    \n",
    "    plt.rc('figure', figsize=(20, 5))\n",
    "    plt.imshow(layer_output)\n",
    "    \n",
    "    ax.set_xticks(range(Tx))\n",
    "    ax.set_xticklabels(x)\n",
    "    \n",
    "    ax.set_yticks(range(Ty))\n",
    "    ax.set_yticklabels(prediction)\n",
    "    \n",
    "    plt.show()\n",
    "    \n",
    "plot_attention_graph(model, dataset[i][0], Tx, Ty, human_vocab)"
   ]
  },
  {
   "cell_type": "code",
   "execution_count": null,
   "metadata": {},
   "outputs": [],
   "source": []
  }
 ],
 "metadata": {
  "kernelspec": {
   "display_name": "Python 3",
   "language": "python",
   "name": "python3"
  },
  "language_info": {
   "codemirror_mode": {
    "name": "ipython",
    "version": 3
   },
   "file_extension": ".py",
   "mimetype": "text/x-python",
   "name": "python",
   "nbconvert_exporter": "python",
   "pygments_lexer": "ipython3",
   "version": "3.6.1"
  }
 },
 "nbformat": 4,
 "nbformat_minor": 2
}
